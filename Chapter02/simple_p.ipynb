{
 "cells": [
  {
   "cell_type": "code",
   "execution_count": 2,
   "id": "83543f42",
   "metadata": {},
   "outputs": [],
   "source": [
    "import numpy as np\n",
    "import matplotlib.pyplot as plt"
   ]
  },
  {
   "cell_type": "code",
   "execution_count": 3,
   "id": "ce9589f9",
   "metadata": {},
   "outputs": [],
   "source": [
    "def check_P(function):\n",
    "    for i in range(2):\n",
    "        for j in range(2):\n",
    "            print(f'{function(i, j)} ({i}, {j})')\n",
    "    print(\"---------------------------\")"
   ]
  },
  {
   "cell_type": "code",
   "execution_count": 4,
   "id": "0e102685",
   "metadata": {},
   "outputs": [
    {
     "name": "stdout",
     "output_type": "stream",
     "text": [
      "0 (0, 0)\n",
      "0 (0, 1)\n",
      "0 (1, 0)\n",
      "1 (1, 1)\n",
      "---------------------------\n"
     ]
    }
   ],
   "source": [
    "def AND_raw(x1, x2):\n",
    "    \"\"\"\n",
    "    w1, w2, theta = 0.5, 0.5, 0.7\n",
    "    \"\"\"\n",
    "    tmp = x1*0.5 + x2*0.5\n",
    "    return int(tmp > 0.7)\n",
    "\n",
    "check_P(AND_raw)"
   ]
  },
  {
   "cell_type": "code",
   "execution_count": 5,
   "id": "df4b5474",
   "metadata": {},
   "outputs": [
    {
     "name": "stdout",
     "output_type": "stream",
     "text": [
      "0 (0, 0)\n",
      "0 (0, 1)\n",
      "0 (1, 0)\n",
      "1 (1, 1)\n",
      "---------------------------\n"
     ]
    }
   ],
   "source": [
    "def AND(x1, x2):\n",
    "    x = np.array([x1, x2])\n",
    "    w = np.array([0.5, 0.5])\n",
    "    b = -0.7\n",
    "    tmp = np.dot(x, w) + b\n",
    "    if tmp <= 0:\n",
    "        return 0\n",
    "    else:\n",
    "        return 1\n",
    "\n",
    "check_P(AND)"
   ]
  },
  {
   "cell_type": "code",
   "execution_count": 6,
   "id": "16d16bbc",
   "metadata": {},
   "outputs": [
    {
     "name": "stdout",
     "output_type": "stream",
     "text": [
      "1 (0, 0)\n",
      "1 (0, 1)\n",
      "1 (1, 0)\n",
      "0 (1, 1)\n",
      "---------------------------\n"
     ]
    }
   ],
   "source": [
    "def NAND(x1, x2):\n",
    "    return [1, 0][AND(x1, x2)]\n",
    "\n",
    "check_P(NAND)"
   ]
  },
  {
   "cell_type": "code",
   "execution_count": 7,
   "id": "8a17b130",
   "metadata": {},
   "outputs": [
    {
     "name": "stdout",
     "output_type": "stream",
     "text": [
      "0 (0, 0)\n",
      "0 (0, 1)\n",
      "0 (1, 0)\n",
      "1 (1, 1)\n",
      "---------------------------\n"
     ]
    }
   ],
   "source": [
    "def OR(x1, x2):\n",
    "    x = np.array([x1, x2])\n",
    "    w = np.array([0.4, 0.4])\n",
    "    b = -0.7\n",
    "    \n",
    "    tmp = np.dot(x, w) + b\n",
    "    return int(tmp > 0)\n",
    "\n",
    "check_P(OR)"
   ]
  },
  {
   "cell_type": "code",
   "execution_count": 14,
   "id": "c089477b",
   "metadata": {},
   "outputs": [
    {
     "data": {
      "image/png": "[encoded data removed]",
      "text/plain": [
       "<Figure size 300x200 with 1 Axes>"
      ]
     },
     "metadata": {},
     "output_type": "display_data"
    }
   ],
   "source": [
    "w1, w2, b = (0.5, 0.5, -0.2)\n",
    "x = np.arange(0, 2, 0.1)\n",
    "y1 = -(w1*x + b) / w2\n",
    "\n",
    "plt.figure(figsize=(3, 2))\n",
    "\n",
    "plt.plot(x, y1, label=\"perceptron\")\n",
    "plt.plot([0, 0, 1, 1], [0, 1, 0, 1], marker=\"o\", linestyle=\"none\")\n",
    "\n",
    "plt.xlabel(\"x\")\n",
    "plt.ylabel(\"y\")\n",
    "plt.legend()\n",
    "plt.show()  "
   ]
  }
 ],
 "metadata": {
  "kernelspec": {
   "display_name": "virtualenv_1",
   "language": "python",
   "name": "python3"
  },
  "language_info": {
   "codemirror_mode": {
    "name": "ipython",
    "version": 3
   },
   "file_extension": ".py",
   "mimetype": "text/x-python",
   "name": "python",
   "nbconvert_exporter": "python",
   "pygments_lexer": "ipython3",
   "version": "3.13.2"
  }
 },
 "nbformat": 4,
 "nbformat_minor": 5
}
