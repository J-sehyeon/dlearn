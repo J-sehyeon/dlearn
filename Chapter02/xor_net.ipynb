{
 "cells": [
  {
   "cell_type": "code",
   "execution_count": null,
   "id": "f3c3f5d7",
   "metadata": {},
   "outputs": [],
   "source": [
    "import numpy as np"
   ]
  },
  {
   "cell_type": "code",
   "execution_count": null,
   "id": "a46688bd",
   "metadata": {},
   "outputs": [],
   "source": [
    "# 2개의 레이어, 2, 1 유닛\n",
    "\n",
    "np.random.seed(42)\n",
    "x = np.array([[0, 0], [1, 0], [0, 1], [1, 1]])\n",
    "y = np.array([0, 1, 1, 0])\n",
    "\n",
    "w_1 = np.random.rand(2, 2)\n",
    "b_1 = np.random.rand(1, 2)\n",
    "\n",
    "w_2 = np.random.rand(1, 2)\n",
    "b_2 = np.random.rand(1, 1)"
   ]
  },
  {
   "cell_type": "code",
   "execution_count": null,
   "id": "d69f779d",
   "metadata": {},
   "outputs": [
    {
     "name": "stdout",
     "output_type": "stream",
     "text": [
      "[0.15601864 0.15599452]\n"
     ]
    }
   ],
   "source": [
    "def layer(x, w, b):\n",
    "    n = w.shape[0]\n",
    "    res = np.zeros(n)\n",
    "    for i in range(n):\n",
    "        res[i] = np.dot(x, w[i]) + b[i]\n",
    "    return res\n",
    "res = layer(x[0], w_1, b_1)\n",
    "print(res)"
   ]
  },
  {
   "cell_type": "code",
   "execution_count": null,
   "id": "12e75fec",
   "metadata": {},
   "outputs": [],
   "source": [
    "def sigmoid(y):\n",
    "    return 1 / (1 + np.exp(-y))    "
   ]
  },
  {
   "cell_type": "code",
   "execution_count": null,
   "id": "abb4023b",
   "metadata": {},
   "outputs": [],
   "source": [
    "def sig_dev(x):\n",
    "    return x * (1 - x)\n"
   ]
  },
  {
   "cell_type": "code",
   "execution_count": null,
   "id": "e207e288",
   "metadata": {},
   "outputs": [],
   "source": [
    "sequence = {\n",
    "    \"l1\": [w_1, b_1],\n",
    "    \"l2\": [w_2, b_2],\n",
    "    \"act\": activation,\n",
    "    \"loss\": loss\n",
    "}"
   ]
  },
  {
   "cell_type": "code",
   "execution_count": null,
   "id": "fcea46e0",
   "metadata": {},
   "outputs": [],
   "source": [
    "def bp(sequence, res, y):\n",
    "    "
   ]
  }
 ],
 "metadata": {
  "language_info": {
   "name": "python"
  }
 },
 "nbformat": 4,
 "nbformat_minor": 5
}
