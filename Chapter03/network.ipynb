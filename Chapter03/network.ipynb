{
 "cells": [
  {
   "cell_type": "markdown",
   "id": "4fdd4e68",
   "metadata": {},
   "source": [
    "# Neural Network"
   ]
  },
  {
   "cell_type": "markdown",
   "id": "3f9a774b",
   "metadata": {},
   "source": [
    "### Keywords\n",
    "입력층, 은닉층, 출력층 <br>\n",
    "편향, 가중치<br>\n",
    "활성화 함수, 계단, 시그모이드 ReLU 함수<br>\n",
    "출력층, 항등, 소프트맥스 함수<br>"
   ]
  },
  {
   "cell_type": "markdown",
   "id": "ddf03160",
   "metadata": {},
   "source": [
    "#### perceptron\n",
    "y = 0 if b + (w,x) <= 0 <br>\n",
    "y = 1 if b + (w,x) > 0"
   ]
  },
  {
   "cell_type": "markdown",
   "id": "e0d75cfa",
   "metadata": {},
   "source": [
    "### Activation function"
   ]
  },
  {
   "cell_type": "code",
   "execution_count": 13,
   "id": "ce022bad",
   "metadata": {},
   "outputs": [],
   "source": [
    "import numpy as np\n",
    "import matplotlib.pyplot as plt"
   ]
  },
  {
   "cell_type": "code",
   "execution_count": 14,
   "id": "d43a485c",
   "metadata": {},
   "outputs": [],
   "source": [
    "def check_af(function, s=-2, e=2):\n",
    "    for i in range(s, e + 1):\n",
    "        print(f'{function(i)} when input is {i}')\n",
    "    "
   ]
  },
  {
   "cell_type": "code",
   "execution_count": 33,
   "id": "c377913d",
   "metadata": {},
   "outputs": [
    {
     "name": "stdout",
     "output_type": "stream",
     "text": [
      "0 when input is -2\n",
      "0 when input is -1\n",
      "0 when input is 0\n",
      "1 when input is 1\n",
      "1 when input is 2\n"
     ]
    }
   ],
   "source": [
    "# step function\n",
    "\n",
    "def step(x):\n",
    "    return int(x > 0)\n",
    "\n",
    "check_af(step)"
   ]
  },
  {
   "cell_type": "code",
   "execution_count": 16,
   "id": "d74921e7",
   "metadata": {},
   "outputs": [
    {
     "name": "stdout",
     "output_type": "stream",
     "text": [
      "0.11920292202211755 when input is -2\n",
      "0.2689414213699951 when input is -1\n",
      "0.5 when input is 0\n",
      "0.7310585786300049 when input is 1\n",
      "0.8807970779778823 when input is 2\n"
     ]
    }
   ],
   "source": [
    "# sigmoid function\n",
    "\n",
    "def sigmoid(x):\n",
    "    return 1 / (1 + np.exp(-x))\n",
    "\n",
    "check_af(sigmoid)"
   ]
  },
  {
   "cell_type": "code",
   "execution_count": 17,
   "id": "1648c595",
   "metadata": {},
   "outputs": [
    {
     "name": "stdout",
     "output_type": "stream",
     "text": [
      "0 when input is -2\n",
      "0 when input is -1\n",
      "0 when input is 0\n",
      "1 when input is 1\n",
      "2 when input is 2\n"
     ]
    }
   ],
   "source": [
    "# ReLU : Rectified Linear Unit\n",
    "\n",
    "def relu(x):\n",
    "    return np.maximum(0, x)\n",
    "\n",
    "check_af(relu)"
   ]
  },
  {
   "cell_type": "code",
   "execution_count": 34,
   "id": "5453c365",
   "metadata": {},
   "outputs": [],
   "source": [
    "activation = {\n",
    "    \"step\": step,\n",
    "    \"sigmoid\": sigmoid,\n",
    "    \"relu\": relu\n",
    "}"
   ]
  },
  {
   "cell_type": "code",
   "execution_count": 37,
   "id": "56043306",
   "metadata": {},
   "outputs": [
    {
     "data": {
      "image/png": "[encoded data removed]",
      "text/plain": [
       "<Figure size 500x400 with 1 Axes>"
      ]
     },
     "metadata": {},
     "output_type": "display_data"
    }
   ],
   "source": [
    "x = np.arange(-2, 3, 0.1)\n",
    "\n",
    "plt.figure(figsize=(5, 4))\n",
    "plt.ylim(0,2)\n",
    "\n",
    "plt.plot(x, np.ones_like(x) / 2, linestyle=\"--\")\n",
    "\n",
    "for name, f in activation.items():\n",
    "    y = np.array([f(i) for i in x])\n",
    "    plt.plot(x, y, label=name)\n",
    "plt.legend()\n",
    "plt.show()\n"
   ]
  }
 ],
 "metadata": {
  "kernelspec": {
   "display_name": "virtualenv_1",
   "language": "python",
   "name": "python3"
  },
  "language_info": {
   "codemirror_mode": {
    "name": "ipython",
    "version": 3
   },
   "file_extension": ".py",
   "mimetype": "text/x-python",
   "name": "python",
   "nbconvert_exporter": "python",
   "pygments_lexer": "ipython3",
   "version": "3.13.2"
  }
 },
 "nbformat": 4,
 "nbformat_minor": 5
}
