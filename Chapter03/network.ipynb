{
 "cells": [
  {
   "cell_type": "markdown",
   "id": "4fdd4e68",
   "metadata": {},
   "source": [
    "# Neural Network"
   ]
  },
  {
   "cell_type": "markdown",
   "id": "3f9a774b",
   "metadata": {},
   "source": [
    "### Keywords\n",
    "입력층, 은닉층, 출력층\n",
    "편향, 가중치\n",
    "활성화 함수, 계단, 시그모이드 ReLU 함수\n",
    "출력층, 항등, 소프트맥스 함수"
   ]
  },
  {
   "cell_type": "markdown",
   "id": "ddf03160",
   "metadata": {},
   "source": [
    "#### perceptron\n",
    "y = 0 if b + (w,x) <= 0 <br>\n",
    "y = 1 if b + (w,x) > 0"
   ]
  }
 ],
 "metadata": {
  "language_info": {
   "name": "python"
  }
 },
 "nbformat": 4,
 "nbformat_minor": 5
}
